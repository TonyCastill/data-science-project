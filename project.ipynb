{
 "cells": [
  {
   "cell_type": "markdown",
   "id": "11b305cf",
   "metadata": {},
   "source": [
    "# Import libraries"
   ]
  },
  {
   "cell_type": "code",
   "execution_count": 4,
   "id": "94d7f237",
   "metadata": {},
   "outputs": [],
   "source": [
    "import pandas as pd\n",
    "import os # To read raw data\n"
   ]
  },
  {
   "cell_type": "markdown",
   "id": "7c492351",
   "metadata": {},
   "source": [
    "# Iter files"
   ]
  },
  {
   "cell_type": "code",
   "execution_count": 5,
   "id": "4da6608c",
   "metadata": {},
   "outputs": [
    {
     "data": {
      "text/plain": [
       "7"
      ]
     },
     "execution_count": 5,
     "metadata": {},
     "output_type": "execute_result"
    }
   ],
   "source": [
    "# divorces_in_2023 = pd.read_csv(\"data/raw_data/conjunto_de_datos_ed2023.csv\", header=0)\n",
    "\n",
    "dataframes = []\n",
    "directory_path = \"data/raw_data/\"\n",
    "\n",
    "for filename in os.listdir(directory_path):\n",
    "    if filename.endswith(\".csv\"):\n",
    "        file_path = os.path.join(directory_path, filename)\n",
    "        df = pd.read_csv(file_path)\n",
    "        df.columns = df.columns.str.lower()\n",
    "        dataframes.append(df)\n",
    "\n",
    "len(dataframes)\n",
    "# dataframes[\"conjunto_de_datos_divorcios_2017\"]"
   ]
  },
  {
   "cell_type": "markdown",
   "id": "5e020a77",
   "metadata": {},
   "source": [
    "# Get catalogs"
   ]
  },
  {
   "cell_type": "code",
   "execution_count": 6,
   "id": "547b7118",
   "metadata": {},
   "outputs": [],
   "source": [
    "# divorces_in_2023 = pd.read_csv(\"data/2023/conjunto_de_datos_ed2023.csv\", header=0)\n",
    "\n",
    "def load_catalog_as_dict(csv_path):\n",
    "    \"\"\"\n",
    "    Loads a CSV catalog into a dictionary using 'clave' as key and 'descripción' as value.\n",
    "    \"\"\"\n",
    "    df = pd.read_csv(csv_path, dtype={\"clave\": int})\n",
    "    return dict(zip(df[\"clave\"], df[\"descripción\"]))\n",
    "\n",
    "divorce_type_dict = load_catalog_as_dict(\"data/catalogs/tipo_divorcio.csv\")\n",
    "location_catalog2 = pd.read_csv(\"data/catalogs/entidad_municipio_localidad_2023.csv\", dtype={\"cve_ent\": str, \"cve_mun\": str, \"cve_loc\": str})\n",
    "# Build nested dictionary\n",
    "location_dict = {}\n",
    "\n",
    "for _, row in location_catalog2.iterrows():\n",
    "    ent = row['cve_ent']\n",
    "    mun = row['cve_mun']\n",
    "    loc = row['cve_loc']\n",
    "    name = row['nom_loc']\n",
    "\n",
    "    location_dict.setdefault(ent, {}).setdefault(mun, {})[loc] = name\n",
    "petitioner_dict = load_catalog_as_dict(\"data/catalogs/persona_que_inicio.csv\")\n",
    "winner_dict = load_catalog_as_dict(\"data/catalogs/a_favor.csv\")\n",
    "divorce_reason_dict = load_catalog_as_dict(\"data/catalogs/causas_divorcio.csv\")\n",
    "custody_dict = load_catalog_as_dict(\"data/catalogs/custodia.csv\")\n",
    "parental_authority_dict = load_catalog_as_dict(\"data/catalogs/patria_potestad.csv\")\n",
    "child_maintenance_dict = load_catalog_as_dict(\"data/catalogs/pension_alimenticia.csv\")\n",
    "nationality_dict = load_catalog_as_dict(\"data/catalogs/nacionalidad.csv\")\n",
    "marital_status_dict = load_catalog_as_dict(\"data/catalogs/estado_conyugal.csv\")\n",
    "education_level_dict = load_catalog_as_dict(\"data/catalogs/escolaridad.csv\")\n",
    "economic_situation_dict = load_catalog_as_dict(\"data/catalogs/condicion_actividad_economica.csv\")\n",
    "dedication_dict = load_catalog_as_dict(\"data/catalogs/dedicado_a.csv\")\n",
    "job_dict = load_catalog_as_dict(\"data/catalogs/posicion_trabajo.csv\")\n",
    "gender_dict = load_catalog_as_dict(\"data/catalogs/condicion_biologica.csv\")\n",
    "\n",
    "# Catalogs\n",
    "# divorce_type_catalog = pd.read_csv(\"data/catalogs/tipo_divorcio.csv\")\n",
    "# location_catalog = pd.read_csv(\"data/catalogs/entidad_municipio_localidad_2023.csv\")\n",
    "# petitioner_catalog = pd.read_csv(\"data/catalogs/persona_que_inicio.csv\")\n",
    "# winner_catalog = pd.read_csv(\"data/catalogs/a_favor.csv\")\n",
    "# divorce_reason_catalog = pd.read_csv(\"data/catalogs/causas_divorcio.csv\")\n",
    "# custody_catalog = pd.read_csv(\"data/catalogs/custodia.csv\")\n",
    "# parental_authority_catalog =pd.read_csv(\"data/catalogs/patria_potestad.csv\")\n",
    "# child_maintenance_catalog =pd.read_csv(\"data/catalogs/pension_alimenticia.csv\")\n",
    "# nationality_catalog = pd.read_csv(\"data/catalogs/nacionalidad.csv\")\n",
    "# marital_status_catalog = pd.read_csv(\"data/catalogs/estado_conyugal.csv\")\n",
    "# education_level_catalog = pd.read_csv(\"data/catalogs/escolaridad.csv\")\n",
    "# economic_situation_catalog = pd.read_csv(\"data/catalogs/condicion_actividad_economica.csv\")\n",
    "# dedication_catalog = pd.read_csv(\"data/catalogs/dedicado_a.csv\")\n",
    "# job_catalog = pd.read_csv(\"data/catalogs/posicion_trabajo.csv\")\n",
    "# gender_catalog = pd.read_csv(\"data/catalogs/condicion_biologica.csv\")\n",
    "\n",
    "\n",
    "\n"
   ]
  },
  {
   "cell_type": "markdown",
   "id": "57b6f873",
   "metadata": {},
   "source": [
    "# Getters"
   ]
  },
  {
   "cell_type": "code",
   "execution_count": 7,
   "id": "46b514d5",
   "metadata": {},
   "outputs": [],
   "source": [
    "# Get divorce type\n",
    "def get_divorce_type(divorce_type_param):\n",
    "    #Use catalogs to assign values\n",
    "    # return divorce_type_catalog.query(\"clave == @divorce_type_param\")[\"descripción\"].item()\n",
    "    return divorce_type_dict.get(divorce_type_param, \"Valor desconocido\")\n",
    "\n",
    "# def get_divorce_type2(divorce_type_param):\n",
    "#     #Use catalogs to assign values\n",
    "#     return \"Administrativo\" if divorce_type_param == 2 else \"Judicial\"\n",
    "#     # return divorce_type_catalog.query(\"clave == @divorce_type_param\")[\"descripción\"].item()\n",
    "    \n",
    "def get_location2(state_id, municipality_id, locality_id):\n",
    "    state_id = str(state_id).zfill(2)\n",
    "    municipality_id = str(municipality_id).zfill(3)\n",
    "    locality_id = str(locality_id).zfill(4)\n",
    "\n",
    "    state = location_dict.get(state_id, {}).get(\"000\", {}).get(\"0000\", \"Unknown State\")\n",
    "    municipality = location_dict.get(state_id, {}).get(municipality_id, {}).get(\"0000\", \"Unknown Municipality\")\n",
    "    locality = location_dict.get(state_id, {}).get(municipality_id, {}).get(locality_id, \"Unknown Locality\")\n",
    "\n",
    "    return {\"state\": state, \"municipality\": municipality, \"locality\": locality}\n",
    "# Get location name\n",
    "# def get_location(state_id,municipality_id, locality_id):\n",
    "#     state = location_catalog.query(\"cve_ent == @state_id and cve_mun == 0 and cve_loc == 0\")[\"nom_loc\"].item()\n",
    "#     municipality = location_catalog.query(\"cve_ent == @state_id and cve_mun == @municipality_id and cve_loc == 0\")[\"nom_loc\"].item()\n",
    "#     locality = location_catalog.query(\"cve_ent == @state_id and cve_mun == @municipality_id and cve_loc == @locality_id\")[\"nom_loc\"].item()\n",
    "#     return {\"state\":state,\"municipality\":municipality,\"locality\":locality}\n",
    "\n",
    "# Function to reformat column names to \"mm-dd-yyyy\"\n",
    "def get_formated_date(day,month,year):\n",
    "    # print(date[\"day\"])\n",
    "    day_valid = day != 99\n",
    "    month_valid = month != 99\n",
    "    year_valid = year != 9999\n",
    "    \n",
    "    date_obj = {\n",
    "        \"day\": int(day) if day_valid else None,\n",
    "        \"month\": int(month) if month_valid else None,\n",
    "        \"year\": int(year) if year_valid else None\n",
    "    }\n",
    "\n",
    "    # Construct full_date only if all parts are valid\n",
    "    if day_valid and month_valid and year_valid:\n",
    "        full_date = f\"{month:02d}-{day:02d}-{year:04d}\"\n",
    "    else:\n",
    "        full_date = None\n",
    "    date_obj[\"full_date\"]=full_date\n",
    "    return date_obj\n",
    "def get_age(age):\n",
    "    # if(age != 99 and age != 999):\n",
    "    #     age_valid = age\n",
    "    # age_valid = age\n",
    "    age_valid = age not in(999,99)\n",
    "    # age_valid = age != 999\n",
    "    return int(age) if age_valid else None\n",
    "\n",
    "def get_petitioner(petitioner_id):\n",
    "    # return petitioner_catalog.query(\"clave == @petitioner_id\")[\"descripción\"].item()\n",
    "    return petitioner_dict.get(petitioner_id, \"Valor desconocido\")\n",
    "def get_winner(winner_id):\n",
    "    # return winner_catalog.query(\"clave == @winner_id\")[\"descripción\"].item()\n",
    "    return winner_dict.get(winner_id, \"Valor desconocido\")\n",
    "def get_divorce_reason(divorce_reason_id):\n",
    "    # return divorce_reason_catalog.query(\"clave == @divorce_reason_id\")[\"descripción\"].item()\n",
    "    return divorce_reason_dict.get(divorce_reason_id, \"Valor desconocido\")\n",
    "\n",
    "def get_custody_winner(custody_id):\n",
    "    return custody_dict.get(custody_id, \"Valor desconocido\")\n",
    "\n",
    "def get_parental_authority(pp_id):\n",
    "    return parental_authority_dict.get(pp_id, \"Valor desconocido\")\n",
    "    # return parental_authority_catalog.query(\"clave == @pp_id\")[\"descripción\"].item()\n",
    "def get_child_maintenance_individual(child_mantenance_id):\n",
    "    return child_maintenance_dict.get(child_mantenance_id, \"Valor desconocido\")\n",
    "    # return child_maintenance_catalog.query(\"clave == @child_mantenance_id\")[\"descripción\"].item()\n",
    "def get_nationality(nationality_id):\n",
    "    return nationality_dict.get(nationality_id, \"Valor desconocido\")\n",
    "    # return nationality_catalog.query(\"clave == @nationality_id\")[\"descripción\"].item()\n",
    "def get_marital_status(marital_status_id):\n",
    "    return marital_status_dict.get(marital_status_id, \"Valor desconocido\")\n",
    "    # return marital_status_catalog.query(\"clave == @marital_status_id\")[\"descripción\"].item()\n",
    "def get_education_level(education_id):\n",
    "    return education_level_dict.get(education_id, \"Valor desconocido\")\n",
    "    # return education_level_catalog.query(\"clave == @education_id\")[\"descripción\"].item()\n",
    "def get_economic_situation(economic_situation_id):\n",
    "    return economic_situation_dict.get(economic_situation_id, \"Valor desconocido\")\n",
    "    # return economic_situation_catalog.query(\"clave == @economic_situation_id\")[\"descripción\"].item()\n",
    "def get_dedication(dedication_id):\n",
    "    return dedication_dict.get(dedication_id, \"Valor desconocido\")\n",
    "    # return dedication_catalog.query(\"clave == @dedication_id\")[\"descripción\"].item()\n",
    "def get_job(job_id):\n",
    "    return job_dict.get(job_id, \"Valor desconocido\")\n",
    "    # return job_catalog.query(\"clave == @job_id\")[\"descripción\"].item()\n",
    "def get_gender(gender_id):\n",
    "    return gender_dict.get(gender_id, \"Valor desconocido\")\n",
    "    # return gender_catalog.query(\"clave == @gender_id\")[\"descripción\"].item()"
   ]
  },
  {
   "cell_type": "markdown",
   "id": "67f43e93",
   "metadata": {},
   "source": [
    "# Format data"
   ]
  },
  {
   "cell_type": "code",
   "execution_count": 8,
   "id": "68ac63d2",
   "metadata": {},
   "outputs": [],
   "source": [
    "data = []\n",
    "\n",
    "# Get data from a single file\n",
    "for dataframe in dataframes:\n",
    "    for _, row in dataframe.iterrows():\n",
    "        \n",
    "        data.append(\n",
    "            {\n",
    "                \"divorce_type\": get_divorce_type(row[\"tipo_div\"]),\n",
    "                \"divorce_registration_location\":get_location2(row[\"ent_regis\"],row[\"mun_regis\"],row[\"loc_regis\"]),\n",
    "                \"marriage_registration_location\":get_location2(row[\"ent_mat\"],row[\"mun_mat\"],row[\"local_mat\"]),\n",
    "                \"marriage_date\":get_formated_date(row[\"dia_mat\"],row[\"mes_mat\"],row[\"anio_mat\"]),\n",
    "                \"divorce_petition_date\":get_formated_date(row[\"dia_reg\"],row[\"mes_reg\"],row[\"anio_reg\"]),\n",
    "                \"divorce_trial_date\":get_formated_date(row[\"dia_sen\"],row[\"mes_sen\"],row[\"anio_sen\"]),\n",
    "                \"divorce_final_order\" : get_formated_date(row[\"dia_eje\"],row[\"mes_eje\"],row[\"anio_eje\"]),\n",
    "                \"petitioner\":get_petitioner(row[\"ini_juic\"]),\n",
    "                \"winner\":get_winner(row[\"favor\"]),\n",
    "                \"divorce_reason\":get_divorce_reason(row[\"causa\"]),\n",
    "                \"childs_total\":int(row[\"hijos\"]),\n",
    "                \"underage_childs\":int(row[\"hij_men\"]),\n",
    "                \"custody\":get_custody_winner(row[\"custodia\"]),\n",
    "                \"childs_in_custody\":int(row[\"cus_hij\"]),\n",
    "                \"parental_authority\":get_parental_authority(row[\"pat_pot\"]),\n",
    "                \"childs_in_parental_authority\":int(row[\"pat_hij\"]),\n",
    "                \"child_maintenance\":get_child_maintenance_individual(row[\"pension\"]),\n",
    "                \"childs_in_child_maintenance\":int(row[\"pen_hij\"]),\n",
    "                \n",
    "                # Divorcee 1\n",
    "                \"divorcee_1\": {\n",
    "                    \"nationality\": get_nationality(row[\"naci_div1\"]),\n",
    "                    \"age\": get_age(row[\"edad_div1\"]),\n",
    "                    \"marital_status\": get_marital_status(row[\"eciv_adiv1\"]),\n",
    "                    \"location\": get_location2(row[\"ent_rhdiv1\"], row[\"mun_rhdiv1\"], row[\"loc_rhdiv1\"]),\n",
    "                    \"education_level\": get_education_level(row[\"escol_div1\"]),\n",
    "                    \"economic_situation\": get_economic_situation(row[\"con_acdiv1\"]),  # Uncomment if function is available\n",
    "                    \"dedication\": get_dedication(row[\"dedic_div1\"]),\n",
    "                    \"job\": get_job(row[\"postr_div1\"]),\n",
    "                    \"gender\": get_gender(row[\"sexo_div1\"]),\n",
    "                    \"age_at_marriage\": get_age(row[\"edad_mdiv1\"])\n",
    "                },\n",
    "                # Divorcee 2\n",
    "                \"divorcee_2\": {\n",
    "                    \"nationality\": get_nationality(row[\"naci_div2\"]),\n",
    "                    \"age\": get_age(row[\"edad_div2\"]),\n",
    "                    \"marital_status\": get_marital_status(row[\"eciv_adiv2\"]),\n",
    "                    \"location\": get_location2(row[\"ent_rhdiv2\"], row[\"mun_rhdiv2\"], row[\"loc_rhdiv2\"]),\n",
    "                    \"education_level\": get_education_level(row[\"escol_div2\"]),\n",
    "                    \"economic_situation\": get_economic_situation(row[\"con_acdiv2\"]),  # Uncomment if function is available\n",
    "                    \"dedication\": get_dedication(row[\"dedic_div2\"]),\n",
    "                    \"job\": get_job(row[\"postr_div2\"]),\n",
    "                    \"gender\": get_gender(row[\"sexo_div2\"]),\n",
    "                    \"age_at_marriage\": get_age(row[\"edad_mdiv2\"])\n",
    "                } \n",
    "            }\n",
    "        )\n",
    "\n",
    "\n",
    "    \n",
    "        "
   ]
  },
  {
   "cell_type": "markdown",
   "id": "6385d249",
   "metadata": {},
   "source": [
    "# Check data"
   ]
  },
  {
   "cell_type": "code",
   "execution_count": 9,
   "id": "50233c19",
   "metadata": {},
   "outputs": [
    {
     "name": "stdout",
     "output_type": "stream",
     "text": [
      "{'divorce_type': 'Judicial', 'divorce_registration_location': {'state': 'Aguascalientes', 'municipality': 'Aguascalientes', 'locality': 'Aguascalientes'}, 'marriage_registration_location': {'state': 'Aguascalientes', 'municipality': 'Aguascalientes', 'locality': 'Localidad no especificada'}, 'marriage_date': {'day': None, 'month': None, 'year': None, 'full_date': None}, 'divorce_petition_date': {'day': None, 'month': None, 'year': None, 'full_date': None}, 'divorce_trial_date': {'day': 11, 'month': 6, 'year': 2019, 'full_date': '06-11-2019'}, 'divorce_final_order': {'day': 11, 'month': 6, 'year': 2019, 'full_date': '06-11-2019'}, 'petitioner': 'Divorciante 1', 'winner': 'Ambos', 'divorce_reason': 'Sin causa (incausado)', 'childs_total': 3, 'underage_childs': 1, 'custody': 'Divorciante 2', 'childs_in_custody': 1, 'parental_authority': 'Ambos', 'childs_in_parental_authority': 1, 'child_maintenance': 'Hijos', 'childs_in_child_maintenance': 1, 'divorcee_1': {'nationality': 'Mexicana', 'age': 51, 'marital_status': 'Soltero', 'location': {'state': 'Aguascalientes', 'municipality': 'Aguascalientes', 'locality': 'Aguascalientes'}, 'education_level': 'Preparatoria o equivalente', 'economic_situation': 'Trabaja', 'dedication': 'Trabaja', 'job': 'Empleado', 'gender': 'Hombre', 'age_at_marriage': None}, 'divorcee_2': {'nationality': 'Mexicana', 'age': 45, 'marital_status': 'Soltero', 'location': {'state': 'Aguascalientes', 'municipality': 'Aguascalientes', 'locality': 'Aguascalientes'}, 'education_level': 'Secundaria o equivalente', 'economic_situation': 'Trabaja', 'dedication': 'Trabaja', 'job': 'Trabajador por cuenta propia', 'gender': 'Mujer', 'age_at_marriage': None}}\n",
      "1037011\n"
     ]
    }
   ],
   "source": [
    "print(data[0])\n",
    "print(len(data))\n"
   ]
  },
  {
   "cell_type": "markdown",
   "id": "7318a037",
   "metadata": {},
   "source": [
    "# Load Data to ElasticSearch"
   ]
  },
  {
   "cell_type": "code",
   "execution_count": 10,
   "id": "e6ab5a17",
   "metadata": {},
   "outputs": [
    {
     "name": "stdout",
     "output_type": "stream",
     "text": [
      "Successfully inserted 1037011 documents.\n",
      "1037011\n",
      "es_handler <ElasticSearchProvider.ElasticSearchProvider object at 0x79af9ebaf320>\n"
     ]
    }
   ],
   "source": [
    "from ElasticSearchProvider import ElasticSearchProvider\n",
    "\n",
    "#LOAD\n",
    "try:\n",
    "    with ElasticSearchProvider() as es:\n",
    "        response = es.bulk_insert(data=data)  # ID de doc, y doc\n",
    "        # print(response)\n",
    "        print(response)\n",
    "    es_handler = ElasticSearchProvider()\n",
    "    print(\"es_handler\", es_handler)\n",
    "except Exception as error:\n",
    "    print(error)\n",
    "\n"
   ]
  }
 ],
 "metadata": {
  "kernelspec": {
   "display_name": "venv",
   "language": "python",
   "name": "python3"
  },
  "language_info": {
   "codemirror_mode": {
    "name": "ipython",
    "version": 3
   },
   "file_extension": ".py",
   "mimetype": "text/x-python",
   "name": "python",
   "nbconvert_exporter": "python",
   "pygments_lexer": "ipython3",
   "version": "3.12.3"
  }
 },
 "nbformat": 4,
 "nbformat_minor": 5
}
